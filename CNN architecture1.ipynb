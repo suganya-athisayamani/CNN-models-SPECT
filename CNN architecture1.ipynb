{
 "cells": [
  {
   "cell_type": "code",
   "execution_count": 1,
   "id": "fe66ecc9",
   "metadata": {},
   "outputs": [],
   "source": [
    "train_dir = 'C:\\\\Users\\\\jamun\\\\OneDrive\\\\Desktop\\\\ML PROJECTS\\\\SPECTMBI\\\\SPECT_MPI_Dataset\\\\TrainSet\\\\'\n",
    "test_dir = 'C:\\\\Users\\\\jamun\\\\OneDrive\\\\Desktop\\\\ML PROJECTS\\\\SPECTMBI\\\\SPECT_MPI_Dataset\\\\TestSet\\\\'"
   ]
  },
  {
   "cell_type": "code",
   "execution_count": 2,
   "id": "523b1db9",
   "metadata": {},
   "outputs": [],
   "source": [
    "import tensorflow as tf"
   ]
  },
  {
   "cell_type": "code",
   "execution_count": 3,
   "id": "e6b7538c",
   "metadata": {},
   "outputs": [],
   "source": [
    "image_generator = tf.keras.preprocessing.image.ImageDataGenerator(\n",
    "    rescale=1./255,  # Rescale pixel values between 0 and 1\n",
    "    rotation_range=20,  # Randomly rotate images\n",
    "    width_shift_range=0.1,  # Randomly shift images horizontally\n",
    "    height_shift_range=0.1,  # Randomly shift images vertically\n",
    "    horizontal_flip=True  # Randomly flip images horizontally\n",
    ")"
   ]
  },
  {
   "cell_type": "code",
   "execution_count": 4,
   "id": "428167aa",
   "metadata": {},
   "outputs": [
    {
     "name": "stdout",
     "output_type": "stream",
     "text": [
      "Found 128 images belonging to 2 classes.\n"
     ]
    }
   ],
   "source": [
    "train_dataset = image_generator.flow_from_directory(\n",
    "    train_dir,\n",
    "    target_size=(1024,1024),  # Resize images to a consistent size\n",
    "    batch_size=32,\n",
    "    class_mode='categorical'  # Assumes categorical labels\n",
    ")"
   ]
  },
  {
   "cell_type": "code",
   "execution_count": 5,
   "id": "23d1a271",
   "metadata": {},
   "outputs": [
    {
     "name": "stdout",
     "output_type": "stream",
     "text": [
      "Found 32 images belonging to 2 classes.\n"
     ]
    }
   ],
   "source": [
    "test_dataset = image_generator.flow_from_directory(\n",
    "    test_dir,\n",
    "    target_size=(1024, 1024),  # Resize images to a consistent size\n",
    "    batch_size=32,\n",
    "    class_mode='categorical'  # Assumes categorical labels\n",
    ")"
   ]
  },
  {
   "cell_type": "code",
   "execution_count": 6,
   "id": "87b6ec70",
   "metadata": {},
   "outputs": [],
   "source": [
    "from tensorflow.keras.models import Sequential\n",
    "from tensorflow.keras.layers import Conv2D, MaxPooling2D, Flatten, Dense, ZeroPadding2D"
   ]
  },
  {
   "cell_type": "code",
   "execution_count": 7,
   "id": "5b8eea5e",
   "metadata": {},
   "outputs": [],
   "source": [
    "#CNN MODEL\n",
    "model = tf.keras.Sequential()\n",
    "\n",
    "# Convolutional layer 1\n",
    "model.add(ZeroPadding2D(padding=(2,2)))\n",
    "model.add(tf.keras.layers.Conv2D(filters=64,kernel_size=(11,11),strides=2,activation='relu',input_shape=(224, 224, 3)))\n",
    "    \n",
    "# Max pooling layer 1\n",
    "model.add(tf.keras.layers.MaxPooling2D(pool_size=(3, 3),strides=2))\n",
    "    \n",
    "# Convolutional layer 2\n",
    "model.add(ZeroPadding2D(padding=(2,2)))\n",
    "model.add(tf.keras.layers.Conv2D(filters=128, kernel_size=(7, 7),strides=2,activation='relu',input_shape=(224, 224, 3)))\n",
    "\n",
    "\n",
    "# Max pooling layer 2\n",
    "model.add(tf.keras.layers.MaxPooling2D(pool_size=(3,3),strides=2))\n",
    "    \n",
    "# Convolutional layer 3\n",
    "model.add(ZeroPadding2D(padding=(3, 3)))\n",
    "model.add(tf.keras.layers.Conv2D(filters=128,kernel_size=(5,5),strides=1,activation='relu',input_shape=(224, 224, 3)))\n",
    "    \n",
    "# Convolutional layer 4\n",
    "model.add(ZeroPadding2D(padding=(3, 3)))\n",
    "model.add(tf.keras.layers.Conv2D(filters=128,kernel_size=(11,11),strides=2,activation='relu',input_shape=(224, 224, 3)))\n",
    "    \n",
    "# Convolutional layer 5\n",
    "model.add(ZeroPadding2D(padding=(1,1)))\n",
    "model.add(tf.keras.layers.Conv2D(filters=128,kernel_size=(11,11),strides=2,activation='relu',input_shape=(224, 224, 3)))\n",
    "    \n",
    "# Max pooling layer 3\n",
    "model.add(tf.keras.layers.MaxPooling2D(pool_size=(3, 3),strides=2))\n",
    "    \n",
    "# Flatten layer\n",
    "model.add(tf.keras.layers.Flatten())\n",
    "    \n",
    "# Fully connected layer 1\n",
    "model.add(tf.keras.layers.Dense(units=1024, activation='relu'))\n",
    "    \n",
    "# Fully connected layer 2\n",
    "model.add(tf.keras.layers.Dense(units=1024, activation='relu'))\n",
    "    \n",
    "# Output layer\n",
    "model.add(tf.keras.layers.Dense(2, activation='softmax'))\n"
   ]
  },
  {
   "cell_type": "code",
   "execution_count": null,
   "id": "77be0970",
   "metadata": {},
   "outputs": [],
   "source": [
    "model.compile(optimizer='adam', loss='categorical_crossentropy', metrics=['accuracy'])\n",
    "model.fit(train_dataset, epochs=1)"
   ]
  },
  {
   "cell_type": "code",
   "execution_count": null,
   "id": "ac2ee45b",
   "metadata": {},
   "outputs": [],
   "source": [
    "loss, accuracy = model.evaluate(test_dataset)\n",
    "print('Test loss:', loss)\n",
    "print('Test accuracy:', accuracy)"
   ]
  },
  {
   "cell_type": "code",
   "execution_count": null,
   "id": "b3a373c4",
   "metadata": {},
   "outputs": [],
   "source": []
  }
 ],
 "metadata": {
  "kernelspec": {
   "display_name": "Python 3 (ipykernel)",
   "language": "python",
   "name": "python3"
  },
  "language_info": {
   "codemirror_mode": {
    "name": "ipython",
    "version": 3
   },
   "file_extension": ".py",
   "mimetype": "text/x-python",
   "name": "python",
   "nbconvert_exporter": "python",
   "pygments_lexer": "ipython3",
   "version": "3.9.13"
  }
 },
 "nbformat": 4,
 "nbformat_minor": 5
}
